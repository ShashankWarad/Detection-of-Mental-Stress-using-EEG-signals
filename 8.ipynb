{
 "cells": [
  {
   "cell_type": "code",
   "execution_count": 1,
   "metadata": {},
   "outputs": [
    {
     "name": "stdout",
     "output_type": "stream",
     "text": [
      "Extracting EDF parameters from C:\\Users\\BASAVA\\Desktop\\DASPS_Database\\DASPS_Database\\Raw data .edf\\S01.edf...\n",
      "EDF file detected\n",
      "Setting channel info structure...\n",
      "Creating raw.info structure...\n",
      "Reading 0 ... 42111  =      0.000 ...   328.992 secs...\n",
      "Filtering raw data in 1 contiguous segment\n",
      "Setting up band-stop filter\n",
      "\n",
      "FIR filter parameters\n",
      "---------------------\n",
      "Designing a one-pass, zero-phase, non-causal bandstop filter:\n",
      "- Windowed time-domain design (firwin) method\n",
      "- Hamming window with 0.0194 passband ripple and 53 dB stopband attenuation\n",
      "- Lower transition bandwidth: 0.50 Hz\n",
      "- Upper transition bandwidth: 0.50 Hz\n",
      "- Filter length: 845 samples (6.602 s)\n",
      "\n"
     ]
    },
    {
     "name": "stderr",
     "output_type": "stream",
     "text": [
      "[Parallel(n_jobs=1)]: Done  17 tasks      | elapsed:    0.0s\n"
     ]
    },
    {
     "ename": "AttributeError",
     "evalue": "No mne.time_frequency attribute psd_welch",
     "output_type": "error",
     "traceback": [
      "\u001b[1;31m---------------------------------------------------------------------------\u001b[0m",
      "\u001b[1;31mAttributeError\u001b[0m                            Traceback (most recent call last)",
      "Cell \u001b[1;32mIn[1], line 19\u001b[0m\n\u001b[0;32m     12\u001b[0m frequency_ranges \u001b[38;5;241m=\u001b[39m {\u001b[38;5;124m'\u001b[39m\u001b[38;5;124mDelta\u001b[39m\u001b[38;5;124m'\u001b[39m: [\u001b[38;5;241m0.5\u001b[39m, \u001b[38;5;241m4\u001b[39m],\n\u001b[0;32m     13\u001b[0m                    \u001b[38;5;124m'\u001b[39m\u001b[38;5;124mTheta\u001b[39m\u001b[38;5;124m'\u001b[39m: [\u001b[38;5;241m4\u001b[39m, \u001b[38;5;241m8\u001b[39m],\n\u001b[0;32m     14\u001b[0m                    \u001b[38;5;124m'\u001b[39m\u001b[38;5;124mAlpha\u001b[39m\u001b[38;5;124m'\u001b[39m: [\u001b[38;5;241m8\u001b[39m, \u001b[38;5;241m12\u001b[39m],\n\u001b[0;32m     15\u001b[0m                    \u001b[38;5;124m'\u001b[39m\u001b[38;5;124mBeta\u001b[39m\u001b[38;5;124m'\u001b[39m: [\u001b[38;5;241m12\u001b[39m, \u001b[38;5;241m30\u001b[39m],\n\u001b[0;32m     16\u001b[0m                    \u001b[38;5;124m'\u001b[39m\u001b[38;5;124mGamma\u001b[39m\u001b[38;5;124m'\u001b[39m: [\u001b[38;5;241m30\u001b[39m, \u001b[38;5;241m100\u001b[39m]}  \u001b[38;5;66;03m# Adjust upper limit based on your data\u001b[39;00m\n\u001b[0;32m     18\u001b[0m \u001b[38;5;66;03m# Calculate power spectral density (PSD)\u001b[39;00m\n\u001b[1;32m---> 19\u001b[0m psds, freqs \u001b[38;5;241m=\u001b[39m \u001b[43mmne\u001b[49m\u001b[38;5;241;43m.\u001b[39;49m\u001b[43mtime_frequency\u001b[49m\u001b[38;5;241;43m.\u001b[39;49m\u001b[43mpsd_welch\u001b[49m(raw, fmin\u001b[38;5;241m=\u001b[39m\u001b[38;5;241m0.5\u001b[39m, fmax\u001b[38;5;241m=\u001b[39m\u001b[38;5;241m100\u001b[39m, n_fft\u001b[38;5;241m=\u001b[39m\u001b[38;5;241m2048\u001b[39m)\n\u001b[0;32m     21\u001b[0m \u001b[38;5;66;03m# Plot PSD\u001b[39;00m\n\u001b[0;32m     22\u001b[0m plt\u001b[38;5;241m.\u001b[39mfigure(figsize\u001b[38;5;241m=\u001b[39m(\u001b[38;5;241m10\u001b[39m, \u001b[38;5;241m6\u001b[39m))\n",
      "File \u001b[1;32mc:\\Users\\BASAVA\\AppData\\Local\\Programs\\Python\\Python310\\lib\\site-packages\\lazy_loader\\__init__.py:89\u001b[0m, in \u001b[0;36mattach.<locals>.__getattr__\u001b[1;34m(name)\u001b[0m\n\u001b[0;32m     87\u001b[0m     \u001b[38;5;28;01mreturn\u001b[39;00m attr\n\u001b[0;32m     88\u001b[0m \u001b[38;5;28;01melse\u001b[39;00m:\n\u001b[1;32m---> 89\u001b[0m     \u001b[38;5;28;01mraise\u001b[39;00m \u001b[38;5;167;01mAttributeError\u001b[39;00m(\u001b[38;5;124mf\u001b[39m\u001b[38;5;124m\"\u001b[39m\u001b[38;5;124mNo \u001b[39m\u001b[38;5;132;01m{\u001b[39;00mpackage_name\u001b[38;5;132;01m}\u001b[39;00m\u001b[38;5;124m attribute \u001b[39m\u001b[38;5;132;01m{\u001b[39;00mname\u001b[38;5;132;01m}\u001b[39;00m\u001b[38;5;124m\"\u001b[39m)\n",
      "\u001b[1;31mAttributeError\u001b[0m: No mne.time_frequency attribute psd_welch"
     ]
    }
   ],
   "source": [
    "import mne\n",
    "import numpy as np\n",
    "import matplotlib.pyplot as plt\n",
    "\n",
    "# Load EEG data\n",
    "raw = mne.io.read_raw_edf('C:\\\\Users\\\\BASAVA\\\\Desktop\\\\DASPS_Database\\\\DASPS_Database\\\\Raw data .edf\\\\S01.edf', preload=True)\n",
    "\n",
    "# Filter EEG data to remove line noise (optional)\n",
    "raw.notch_filter([50, 60], picks='eeg')\n",
    "\n",
    "# Specify frequency bands\n",
    "frequency_ranges = {'Delta': [0.5, 4],\n",
    "                   'Theta': [4, 8],\n",
    "                   'Alpha': [8, 12],\n",
    "                   'Beta': [12, 30],\n",
    "                   'Gamma': [30, 100]}  # Adjust upper limit based on your data\n",
    "\n",
    "# Calculate power spectral density (PSD)\n",
    "psds, freqs = mne.time_frequency.psd_welch(raw, fmin=0.5, fmax=100, n_fft=2048)\n",
    "\n",
    "# Plot PSD\n",
    "plt.figure(figsize=(10, 6))\n",
    "for band, (fmin, fmax) in frequency_ranges.items():\n",
    "    psd_mean = psds[:, (freqs >= fmin) & (freqs < fmax)].mean(axis=1)\n",
    "    plt.plot(freqs, 10 * np.log10(psd_mean), label=band)\n",
    "\n",
    "plt.xlabel('Frequency (Hz)')\n",
    "plt.ylabel('Power Spectral Density (dB/Hz)')\n",
    "plt.title('Power Spectral Density of EEG Signal')\n",
    "plt.legend()\n",
    "plt.grid(True)\n",
    "plt.show()\n"
   ]
  }
 ],
 "metadata": {
  "kernelspec": {
   "display_name": "Python 3",
   "language": "python",
   "name": "python3"
  },
  "language_info": {
   "codemirror_mode": {
    "name": "ipython",
    "version": 3
   },
   "file_extension": ".py",
   "mimetype": "text/x-python",
   "name": "python",
   "nbconvert_exporter": "python",
   "pygments_lexer": "ipython3",
   "version": "3.10.10"
  }
 },
 "nbformat": 4,
 "nbformat_minor": 2
}
