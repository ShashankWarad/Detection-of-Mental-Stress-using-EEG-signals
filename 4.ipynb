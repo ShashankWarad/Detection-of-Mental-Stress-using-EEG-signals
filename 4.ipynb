{
 "cells": [
  {
   "cell_type": "code",
   "execution_count": null,
   "metadata": {},
   "outputs": [],
   "source": [
    "import mne\n",
    "import matplotlib.pyplot as plt\n",
    "\n",
    "def plot_eeg_frequency_bands(edf_files):\n",
    "    # Specify the EEG channels you're interested in\n",
    "    eeg_channels = ['AF3', 'F7', 'F3', 'FC5', 'T7', 'P7', 'O1', 'O2', 'P8', 'T8', 'FC6', 'F4', 'F8', 'AF4']\n",
    "\n",
    "    for edf_file in edf_files:\n",
    "        # Load EDF file\n",
    "        raw = mne.io.read_raw_edf(edf_file, preload=True)\n",
    "\n",
    "        # Filter the data to extract specific frequency bands\n",
    "        alpha_filtered = raw.copy().filter(8, 12, picks=eeg_channels, fir_design='firwin')  # Alpha band (8-12 Hz)\n",
    "        beta_filtered = raw.copy().filter(13, 30, picks=eeg_channels, fir_design='firwin')  # Beta band (13-30 Hz)\n",
    "        gamma_filtered = raw.copy().filter(30, 63, picks=eeg_channels, fir_design='firwin')  # Gamma band (30-64 Hz)\n",
    "\n",
    "        # Plot the EEG data in specific frequency bands\n",
    "        alpha_filtered.plot(duration=1, n_channels=len(eeg_channels), scalings='auto', title=f'Alpha Band (8-12 Hz) - {\"C:\\\\Users\\\\BASAVA\\\\Desktop\\\\DASPS_Database\\\\DASPS_Database\\\\Raw data .edf\\\\S01.edf\"}')\n",
    "        beta_filtered.plot(duration=1, n_channels=len(eeg_channels), scalings='auto', title=f'Beta Band (13-30 Hz) - {\"C:\\\\Users\\\\BASAVA\\\\Desktop\\\\DASPS_Database\\\\DASPS_Database\\\\Raw data .edf\\\\S02.edf\"}')\n",
    "        gamma_filtered.plot(duration=1, n_channels=len(eeg_channels), scalings='auto', title=f'Gamma Band (30-63 Hz) - {\"C:\\\\Users\\\\BASAVA\\\\Desktop\\\\DASPS_Database\\\\DASPS_Database\\\\Raw data .edf\\\\S03.edf\"}')\n",
    "\n",
    "    plt.show()\n",
    "\n",
    "# List of EDF files\n",
    "edf_files = [\"C:\\\\Users\\\\BASAVA\\\\Desktop\\\\DASPS_Database\\\\DASPS_Database\\\\Raw data .edf\\\\S01.edf\",\n",
    "             \"C:\\\\Users\\\\BASAVA\\\\Desktop\\\\DASPS_Database\\\\DASPS_Database\\\\Raw data .edf\\\\S02.edf\",\n",
    "             \"C:\\\\Users\\\\BASAVA\\\\Desktop\\\\DASPS_Database\\\\DASPS_Database\\\\Raw data .edf\\\\S03.edf\"]  # Update with your file paths\n",
    "\n",
    "# Call the function to plot EEG data from EDF files\n",
    "plot_eeg_frequency_bands(edf_files)\n"
   ]
  }
 ],
 "metadata": {
  "language_info": {
   "name": "python"
  }
 },
 "nbformat": 4,
 "nbformat_minor": 2
}
