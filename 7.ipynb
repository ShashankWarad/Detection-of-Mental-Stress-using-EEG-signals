{
 "cells": [
  {
   "cell_type": "code",
   "execution_count": 1,
   "metadata": {},
   "outputs": [
    {
     "ename": "NameError",
     "evalue": "name 'Normalizer' is not defined",
     "output_type": "error",
     "traceback": [
      "\u001b[1;31m---------------------------------------------------------------------------\u001b[0m",
      "\u001b[1;31mNameError\u001b[0m                                 Traceback (most recent call last)",
      "Cell \u001b[1;32mIn[1], line 8\u001b[0m\n\u001b[0;32m      5\u001b[0m \u001b[38;5;28;01mimport\u001b[39;00m \u001b[38;5;21;01mpandas\u001b[39;00m \u001b[38;5;28;01mas\u001b[39;00m \u001b[38;5;21;01mpd\u001b[39;00m\n\u001b[0;32m      6\u001b[0m \u001b[38;5;28;01mimport\u001b[39;00m \u001b[38;5;21;01mmatplotlib\u001b[39;00m\u001b[38;5;21;01m.\u001b[39;00m\u001b[38;5;21;01mpyplot\u001b[39;00m \u001b[38;5;28;01mas\u001b[39;00m \u001b[38;5;21;01mplt\u001b[39;00m\n\u001b[1;32m----> 8\u001b[0m scaler \u001b[38;5;241m=\u001b[39m \u001b[43mNormalizer\u001b[49m()\n\u001b[0;32m      9\u001b[0m y_pred\u001b[38;5;241m=\u001b[39m[]\n\u001b[0;32m     10\u001b[0m y \u001b[38;5;241m=\u001b[39m train[[\u001b[38;5;124m'\u001b[39m\u001b[38;5;124mvalence\u001b[39m\u001b[38;5;124m'\u001b[39m,\u001b[38;5;124m'\u001b[39m\u001b[38;5;124marousal\u001b[39m\u001b[38;5;124m'\u001b[39m]]\n",
      "\u001b[1;31mNameError\u001b[0m: name 'Normalizer' is not defined"
     ]
    }
   ],
   "source": [
    "from sklearn.neighbors import KNeighborsRegressor\n",
    "from sklearn.model_selection import KFold\n",
    "from sklearn.metrics import mean_absolute_error as mae\n",
    "import numpy as np\n",
    "import pandas as pd\n",
    "import matplotlib.pyplot as plt\n",
    "\n",
    "scaler = Normalizer()\n",
    "y_pred=[]\n",
    "y = train[['valence','arousal']]\n",
    "X = train.drop(['valence','arousal'],axis='columns')\n",
    "\n",
    "X_transformed = scaler.fit_transform(X)\n",
    "X = pd.DataFrame(X_transformed, columns=X.columns)\n",
    "test_df_transformed = scaler.fit_transform(test)\n",
    "test = pd.DataFrame(test_df_transformed, columns=test.columns)\n",
    "\n",
    "scores_knn = []\n",
    "kfold = KFold(n_splits=15, shuffle=True, random_state=42)\n",
    "\n",
    "i=1\n",
    "for train_index, test_index in kfold.split(X,y):\n",
    "    X_train, X_test = X.iloc[train_index], X.iloc[test_index]\n",
    "    y_train, y_test = y.iloc[train_index], y.iloc[test_index]\n",
    "    knn = KNeighborsRegressor(n_neighbors=5, p=1)  # Increasing number of neighbors and using Manhattan distance\n",
    "    knn.fit(X_train, y_train)\n",
    "    mean_accuracy=knn.score(X_test,y_test)\n",
    "    print(mean_accuracy)\n",
    "    preds=knn.predict(X_test)\n",
    "    print(\"MAE Test (\"+ str(i) +\") = \" + str(mae(y_test,preds)) )\n",
    "    scores_knn.append((mae(y_test,preds)))\n",
    "    y_pred.append(knn.predict(test))\n",
    "    i +=1;\n",
    "\n",
    "print('MAE Average : ', sum(scores_knn)/15)\n",
    "\n",
    "plt.figure(figsize=(20,5))\n",
    "plt.plot(range(0,15),scores_knn)\n",
    "plt.title('MAE for each fold')\n",
    "plt.show()"
   ]
  }
 ],
 "metadata": {
  "kernelspec": {
   "display_name": "Python 3",
   "language": "python",
   "name": "python3"
  },
  "language_info": {
   "codemirror_mode": {
    "name": "ipython",
    "version": 3
   },
   "file_extension": ".py",
   "mimetype": "text/x-python",
   "name": "python",
   "nbconvert_exporter": "python",
   "pygments_lexer": "ipython3",
   "version": "3.10.10"
  }
 },
 "nbformat": 4,
 "nbformat_minor": 2
}
